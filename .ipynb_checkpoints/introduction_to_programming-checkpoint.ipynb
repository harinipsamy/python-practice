{
 "cells": [
  {
   "cell_type": "markdown",
   "metadata": {},
   "source": [
    "To complete each exercise you should expect to use\n",
    "some or all of these Python features: \n",
    "\n",
    "• Generate output with print statements \n",
    "\n",
    "• Read input, including casting that input to the appropriate type \n",
    "\n",
    "• Perform calculations involving integers and floating point numbers using Python\n",
    "operators like +, -, *, /, //, %, and ** \n",
    "\n",
    "• Call functions residing in the math module \n",
    "\n",
    "• Control how output is displayed using format specifiers \n"
   ]
  },
  {
   "cell_type": "code",
   "execution_count": 1,
   "metadata": {},
   "outputs": [],
   "source": [
    "import pandas as pd"
   ]
  },
  {
   "cell_type": "markdown",
   "metadata": {},
   "source": [
    "Exercise 1: Mailing Address\n",
    "\n",
    "(9 Lines)\n",
    "Create a program that displays your name and complete mailing address formatted in\n",
    "the manner that you would usually see it on the outside of an envelope. Your program\n",
    "does not need to read any input from the user."
   ]
  },
  {
   "cell_type": "code",
   "execution_count": 76,
   "metadata": {},
   "outputs": [
    {
     "name": "stdout",
     "output_type": "stream",
     "text": [
      "Harini Palanisamy \n",
      "123 Dummy Boulevard \n",
      "City \n",
      "State - 123456\n"
     ]
    }
   ],
   "source": [
    "## \n",
    "# Display complete mailing address\n",
    "#\n",
    "print(\"Harini Palanisamy \\n123 Dummy Boulevard \\nCity \\nState - 123456\")"
   ]
  },
  {
   "cell_type": "markdown",
   "metadata": {},
   "source": [
    "Exercise 2: Hello\n",
    "(9 Lines)\n",
    "Write a program that asks the user to enter his or her name. The program should\n",
    "respond with a message that says hello to the user, using his or her name."
   ]
  },
  {
   "cell_type": "code",
   "execution_count": 78,
   "metadata": {},
   "outputs": [
    {
     "name": "stdout",
     "output_type": "stream",
     "text": [
      "Please enter your name: d\n",
      "Hello d\n"
     ]
    }
   ],
   "source": [
    "##\n",
    "# Say hello to a person\n",
    "#\n",
    "name = input(\"Please enter your name: \")\n",
    "print(\"Hello\",name)"
   ]
  },
  {
   "cell_type": "markdown",
   "metadata": {},
   "source": [
    "Exercise 3: Area of a Room\n",
    "(13 Lines)\n",
    "Write a program that asks the user to enter the width and length of a room. Once\n",
    "the values have been read, your program should compute and display the area of the\n",
    "room. The length and the width will be entered as floating point numbers. Include\n",
    "units in your prompt and output message; either feet or meters, depending on which\n",
    "unit you are more comfortable working with."
   ]
  },
  {
   "cell_type": "code",
   "execution_count": 80,
   "metadata": {},
   "outputs": [
    {
     "name": "stdout",
     "output_type": "stream",
     "text": [
      "Please enter width of a room in feet: 2\n",
      "Please enter length of a room  in feet: 2\n",
      "The area of the room is 4.0 sq. ft.\n"
     ]
    }
   ],
   "source": [
    "##\n",
    "# Calculate area of a room\n",
    "#\n",
    "\n",
    "try:\n",
    "    w = float(input(\"Please enter width of a room in feet: \"))\n",
    "    l = float(input(\"Please enter length of a room  in feet: \"))\n",
    "    area = w*l\n",
    "    print(\"The area of the room is\",area,\"sq. ft.\")\n",
    "except:\n",
    "    print( \"enter float\")\n",
    "    #print(l, \"enter float\")"
   ]
  },
  {
   "cell_type": "markdown",
   "metadata": {},
   "source": [
    "Exercise 4: Area of a Field\n",
    "(15 Lines)\n",
    "Create a program that reads the length and width of a farmer’s field from the user in\n",
    "feet. Display the area of the field in acres.\n",
    "Hint: There are 43,560 square feet in an acre."
   ]
  },
  {
   "cell_type": "code",
   "execution_count": 84,
   "metadata": {},
   "outputs": [
    {
     "name": "stdout",
     "output_type": "stream",
     "text": [
      "Please enter width of a room in feet: 2\n",
      "Please enter length of a room  in feet: 23\n",
      "Area of the field is 0.0010560146923783288 acres\n"
     ]
    }
   ],
   "source": [
    "##\n",
    "# Calculate area in acre\n",
    "#\n",
    "try:\n",
    "    w = float(input(\"Please enter width of a room in feet: \"))\n",
    "    l = float(input(\"Please enter length of a room  in feet: \"))\n",
    "    sqft_per_acre = 43560\n",
    "    area = w*l/sqft_per_acre\n",
    "    print(\"Area of the field is\",area,\"acres\")\n",
    "except:\n",
    "    print( \"enter float\")\n",
    "    #print(l, \"enter float\")"
   ]
  },
  {
   "cell_type": "markdown",
   "metadata": {},
   "source": [
    "Exercise 5: Bottle Deposits\n",
    "(15 Lines)\n",
    "In many jurisdictions a small deposit is added to drink containers to encourage people\n",
    "to recycle them. In one particular jurisdiction, drink containers holding one liter or\n",
    "less have a $0.10 deposit, and drink containers holding more than one liter have a\n",
    "$0.25 deposit.\n",
    "Write a program that reads the number of containers of each size from the user.\n",
    "Your program should continue by computing and displaying the refund that will be\n",
    "received for returning those containers. Format the output so that it includes a dollar\n",
    "sign and always displays exactly two decimal places."
   ]
  },
  {
   "cell_type": "code",
   "execution_count": 85,
   "metadata": {},
   "outputs": [
    {
     "name": "stdout",
     "output_type": "stream",
     "text": [
      "how many one litre containers? 3\n",
      "how many containers with more than one litre capacity? 4\n",
      "you will get: 1.3\n"
     ]
    }
   ],
   "source": [
    "##\n",
    "# Calculate refund amount\n",
    "#\n",
    "one_l = int(input(\"how many one litre containers? \"))\n",
    "big = int(input(\"how many containers with more than one litre capacity? \"))\n",
    "print(\"you will get:\", round(one_l*0.1 + big*0.25,2))"
   ]
  },
  {
   "cell_type": "markdown",
   "metadata": {},
   "source": [
    "Exercise 6: Tax and Tip\n",
    "(Solved—17 Lines)\n",
    "The program that you create for this exercise will begin by reading the cost of a meal\n",
    "ordered at a restaurant from the user. Then your program will compute the tax and\n",
    "tip for the meal. Use your local tax rate when computing the amount of tax owing.\n",
    "Compute the tip as 18 percent of the meal amount (without the tax). The output from\n",
    "your program should include the tax amount, the tip amount, and the grand total for\n",
    "the meal including both the tax and the tip. Format the output so that all of the values\n",
    "are displayed using two decimal places."
   ]
  },
  {
   "cell_type": "code",
   "execution_count": 35,
   "metadata": {},
   "outputs": [
    {
     "name": "stdout",
     "output_type": "stream",
     "text": [
      "meal cost: 100\n",
      "meal cost:  100.00 \n",
      "tax:  15.00 \n",
      "tip:  18.00 \n",
      "total:  133.00\n"
     ]
    }
   ],
   "source": [
    "cost  = float(input(\"meal cost: \"))\n",
    "tax = cost*.15\n",
    "tip = cost*.18\n",
    "print(\"meal cost: \", \"{:.2f}\".format(cost),\"\\ntax: \",\"{:.2f}\".format(tax),\n",
    "      \"\\ntip: \",\"{:.2f}\".format(tip), \"\\ntotal: \",\"{:.2f}\".format(cost+tax+tip))"
   ]
  },
  {
   "cell_type": "markdown",
   "metadata": {},
   "source": [
    "Exercise 7: Sum of the First n Positive Integers\n",
    "(Solved—12 Lines)\n",
    "Write a program that reads a positive integer, n, from the user and then displays the\n",
    "sum of all of the integers from 1 to n. The sum of the first n positive integers can be\n",
    "computed using the formula:\n",
    "sum =\n",
    "(n)(n + 1)\n",
    "2"
   ]
  },
  {
   "cell_type": "code",
   "execution_count": 87,
   "metadata": {},
   "outputs": [
    {
     "name": "stdout",
     "output_type": "stream",
     "text": [
      "positive integer: 3\n",
      "The sum of integers is 6.00.\n"
     ]
    }
   ],
   "source": [
    "n = int(input(\"positive integer: \"))\n",
    "sum_ = n * (n+1)/2\n",
    "print(\"The sum of integers is %.2f.\" %sum_)"
   ]
  },
  {
   "cell_type": "markdown",
   "metadata": {},
   "source": [
    "Exercise 8: Widgets and Gizmos\n",
    "(15 Lines)\n",
    "An online retailer sells two products: widgets and gizmos. Each widget weighs 75\n",
    "grams. Each gizmo weighs 112 grams. Write a program that reads the number of\n",
    "widgets and the number of gizmos in an order from the user. Then your program\n",
    "should compute and display the total weight of the order."
   ]
  },
  {
   "cell_type": "code",
   "execution_count": 38,
   "metadata": {},
   "outputs": [
    {
     "name": "stdout",
     "output_type": "stream",
     "text": [
      "2\n",
      "6\n",
      "822\n"
     ]
    }
   ],
   "source": [
    "w = int(input())\n",
    "g = int(input())\n",
    "wt = w*75 +g*112\n",
    "print(wt)"
   ]
  },
  {
   "cell_type": "markdown",
   "metadata": {},
   "source": [
    "Exercise 9: Compound Interest\n",
    "(19 Lines)\n",
    "Pretend that you have just opened a new savings account that earns 4 percent interest\n",
    "per year. The interest that you earn is paid at the end of the year, and is added\n",
    "to the balance of the savings account. Write a program that begins by reading the\n",
    "amount of money deposited into the account from the user. Then your program should\n",
    "compute and display the amount in the savings account after 1, 2, and 3 years. Display\n",
    "each amount so that it is rounded to 2 decimal places."
   ]
  },
  {
   "cell_type": "code",
   "execution_count": 47,
   "metadata": {},
   "outputs": [
    {
     "name": "stdout",
     "output_type": "stream",
     "text": [
      "2\n",
      "1st year:  2.08 \n",
      "2nd year:  2.16 \n",
      "3rd year:  2.25\n"
     ]
    }
   ],
   "source": [
    "mon = float(input())\n",
    "print(\"1st year: \", round(mon*1.04,2), \"\\n2nd year: \", round(mon*(1.04**2),2), \n",
    "      \"\\n3rd year: \", round(mon*(1.04**3),2))"
   ]
  },
  {
   "cell_type": "markdown",
   "metadata": {},
   "source": [
    "Exercise 10: Arithmetic\n",
    "(Solved—20 Lines)\n",
    "Create a program that reads two integers, a and b, from the user. Your program should\n",
    "compute and display:\n",
    "• The sum of a and b\n",
    "• The difference when b is subtracted from a\n",
    "• The product of a and b\n",
    "The quotient when a is divided by b\n",
    "The remainder when a is divided by b\n",
    "The result of log 10 a\n",
    "The result of a b\n",
    "Hint: You will probably find the log10 function in the math module helpful\n",
    "for computing the second last item in the list."
   ]
  },
  {
   "cell_type": "code",
   "execution_count": 92,
   "metadata": {},
   "outputs": [
    {
     "name": "stdout",
     "output_type": "stream",
     "text": [
      "2\n",
      "3\n",
      "addition:  5.0 \n",
      "subtraction 1.0 \n",
      "product 6.0 \n",
      "quotient 0.0 \n",
      "reminder 2.0 \n",
      "log10 a 0.3010299956639812 \n",
      "log10 b 0.47712125471966244\n"
     ]
    }
   ],
   "source": [
    "import math\n",
    "a = float(input())\n",
    "b = float(input())\n",
    "print(\"addition: \", a+b, \"\\nsubtraction\", b-a, \"\\nproduct\", a*b, \"\\nquotient\", \n",
    "      divmod(a,b)[0],\"\\nreminder\", divmod(a,b)[1], \"\\nlog10 a\" , math.log10(a),\n",
    "     \"\\nlog10 b\",math.log10(b))\n"
   ]
  },
  {
   "cell_type": "markdown",
   "metadata": {},
   "source": [
    "Exercise 11: Fuel Efficiency\n",
    "(13 Lines)\n",
    "In the United States, fuel efficiency for vehicles is normally expressed in miles-per-\n",
    "gallon (MPG). In Canada, fuel efficiency is normally expressed in liters-per-hundred\n",
    "kilometers (L/100 km). Use your research skills to determine how to convert from\n",
    "MPG to L/100 km. Then create a program that reads a value from the user in American\n",
    "units and displays the equivalent fuel efficiency in Canadian units."
   ]
  },
  {
   "cell_type": "code",
   "execution_count": 60,
   "metadata": {},
   "outputs": [
    {
     "name": "stdout",
     "output_type": "stream",
     "text": [
      "2\n",
      "litres per 100km:  1.1761963952765695\n"
     ]
    }
   ],
   "source": [
    "mpg = float(input()) #g=3.785l m=1.609km\n",
    "print(\"litres per 100km: \", 1/(mpg*(1.609/3.785)  ) )"
   ]
  },
  {
   "cell_type": "markdown",
   "metadata": {},
   "source": [
    "Exercise 12: Distance Between Two Points on Earth\n",
    "The surface of the Earth is curved, and the distance between degrees of longitude\n",
    "varies with latitude. As a result, finding the distance between two points on the surface\n",
    "of the Earth is more complicated than simply using the Pythagorean theorem.\n",
    "Let (t 1 , g 1 ) and (t 2 , g 2 ) be the latitude and longitude of two points on the Earth’s\n",
    "surface. The distance between these points, following the surface of the Earth, in\n",
    "kilometers is:\n",
    "distance = 6371.01 × arccos(sin(t 1 ) × sin(t 2 ) + cos(t 1 ) × cos(t 2 ) × cos(g 1 − g 2 ))\n",
    "The value 6371.01 in the previous equation wasn’t selected at random. It is\n",
    "the average radius of the Earth in kilometers.\n",
    "Create a program that allows the user to enter the latitude and longitude of two\n",
    "points on the Earth in degrees. Your program should display the distance between\n",
    "the points, following the surface of the earth, in kilometers.\n",
    "This copy belongs to 'acha04'Exercise 12: Distance Between Two Points on Earth\n",
    "7\n",
    "Hint: Python’s trigonometric functions operate in radians. As a result, you will\n",
    "need to convert the user’s input from degrees to radians before computing the\n",
    "distance with the formula discussed previously. The math module contains a\n",
    "function named radians which converts from degrees to radians."
   ]
  },
  {
   "cell_type": "code",
   "execution_count": 75,
   "metadata": {
    "scrolled": true
   },
   "outputs": [
    {
     "name": "stdout",
     "output_type": "stream",
     "text": [
      "1\n",
      "2\n",
      "5\n",
      "7\n",
      "1046.9658728988325\n"
     ]
    }
   ],
   "source": [
    "t1,g1,t2, g2 = float(input()),float(input()),float(input()),float(input())\n",
    "distance = 6371.01 * math.acos(math.sin(math.radians(t1)) * math.sin(math.radians(t2)) + math.cos(math.radians(t2)) * math.cos(math.radians(g2)) *             math.cos(math.radians(g1)-math.radians(g2)))\n",
    "\n",
    "print(distance)"
   ]
  },
  {
   "cell_type": "markdown",
   "metadata": {},
   "source": [
    "Exercise 13: Making Change\n",
    "(Solved—33 Lines)\n",
    "Consider the software that runs on a self-checkout machine. One task that it must be\n",
    "able to perform is to determine how much change to provide when the shopper pays\n",
    "for a purchase with cash.\n",
    "Write a program that begins by reading a number of cents from the user as an\n",
    "integer. Then your program should compute and display the denominations of the\n",
    "coins that should be used to give that amount of change to the shopper. The change\n",
    "should be given using as few coins as possible. Assume that the machine is loaded\n",
    "with pennies, nickels, dimes, quarters, loonies and toonies.\n",
    "A one dollar coin was introduced in Canada in 1987. It is referred to as a\n",
    "loonie because one side of the coin has a loon (a type of bird) on it. The two\n",
    "dollar coin, referred to as a toonie, was introduced 9 years later. It’s name is\n",
    "derived from the combination of the number two and the name of the loonie."
   ]
  },
  {
   "cell_type": "code",
   "execution_count": 113,
   "metadata": {},
   "outputs": [
    {
     "name": "stdout",
     "output_type": "stream",
     "text": [
      "Input number of cents: 7912\n",
      "Toonies 39\n",
      "remaining 112\n",
      "loonies 1\n",
      "quarters 0\n",
      "Dimes 1\n",
      "Nickels 0\n",
      "Pennies 2\n",
      "Remaining 0\n"
     ]
    }
   ],
   "source": [
    "# \n",
    "## Calculating change due\n",
    "#\n",
    "\n",
    "# Read number of cents\n",
    "cents = int(input(\"Input number of cents: \"))\n",
    "\n",
    "\n",
    "# Number of toonies\n",
    "toonies_in_cents = 200\n",
    "toonies = divmod(cents,200)[0]\n",
    "print(\"Toonies\",toonies)\n",
    "remaining = cents - toonies* toonies_in_cents \n",
    "# print(\"remaining\", remaining)\n",
    "\n",
    "# Number of loonies\n",
    "loonies_in_cents = 100\n",
    "loonies =  divmod(remaining,loonies_in_cents)[0]\n",
    "print(\"loonies\", loonies)\n",
    "remaining = remaining - loonies*loonies_in_cents\n",
    "# print(\"remaining\",remaining)\n",
    "\n",
    "# Number of Quarters\n",
    "quarters_in_cents = 25\n",
    "quarters = divmod(remaining, quarters_in_cents)[0]\n",
    "print(\"quarters\",quarters)\n",
    "remaining = remaining - quarters*quarters_in_cents\n",
    "# print(\"remaining\",remaining)\n",
    "\n",
    "# Number of dimes\n",
    "dimes_in_cents = 10\n",
    "dimes = divmod(remaining,dimes_in_cents)[0]\n",
    "print(\"Dimes\", dimes)\n",
    "remaining = remaining - dimes * dimes_in_cents\n",
    "# print(\"Remaining\", remaining)\n",
    "\n",
    "# Number of Nickels\n",
    "\n",
    "nickels_in_cents = 5\n",
    "nickels = divmod(remaining, nickels_in_cents)[0]\n",
    "print(\"Nickels\", nickels)\n",
    "remaining = remaining - nickels * nickels_in_cents\n",
    "# print(\"Remaining\", remaining)\n",
    "\n",
    "# Number of pennies\n",
    "\n",
    "pennies_in_cents = 1\n",
    "pennies = divmod(remaining, pennies_in_cents)[0]\n",
    "print(\"Pennies\",pennies)\n",
    "remaining = remaining - pennies * pennies_in_cents\n",
    "print(\"Remaining\", remaining)"
   ]
  },
  {
   "cell_type": "markdown",
   "metadata": {},
   "source": [
    "Exercise 14: Height Units\n",
    "(Solved—16 Lines)\n",
    "Many people think about their height in feet and inches, even in some countries that\n",
    "primarily use the metric system. Write a program that reads a number of feet from\n",
    "the user, followed by a number of inches. Once these values are read, your program\n",
    "should compute and display the equivalent number of centimeters.\n",
    "Hint: One foot is 12 inches. One inch is 2.54 centimeters."
   ]
  },
  {
   "cell_type": "code",
   "execution_count": 124,
   "metadata": {},
   "outputs": [
    {
     "name": "stdout",
     "output_type": "stream",
     "text": [
      "enter height in feet and inches: 5 6\n",
      "Height in cm:  167.64000000000001\n"
     ]
    }
   ],
   "source": [
    "#\n",
    "## Calculating height in centimeters\n",
    "#\n",
    "foot_in_inches = 12\n",
    "inch_in_cm = 2.54\n",
    "\n",
    "# Accept input in feet and inches\n",
    "feet, inches = input(\"enter height in feet and inches: \").split()\n",
    "\n",
    "# Convert height to cm\n",
    "height_in_cm = float(feet) * (foot_in_inches * inch_in_cm) +\\\n",
    "               float(inches) * inch_in_cm\n",
    "\n",
    "print(\"Height in cm: \", height_in_cm)"
   ]
  },
  {
   "cell_type": "markdown",
   "metadata": {},
   "source": [
    "Exercise 15: Distance Units\n",
    "(20 Lines)\n",
    "In this exercise, you will create a program that begins by reading a measurement\n",
    "in feet from the user. Then your program should display the equivalent distance in\n",
    "inches, yards and miles. Use the Internet to look up the necessary conversion factors\n",
    "if you don’t have them memorized."
   ]
  },
  {
   "cell_type": "code",
   "execution_count": 125,
   "metadata": {},
   "outputs": [
    {
     "name": "stdout",
     "output_type": "stream",
     "text": [
      "Enter distance in feet: 4562\n",
      "Distance in inches:  54744.0\n",
      "Distance in yards:  1520.6666666666667\n",
      "Distance in miles:  0.8640151515151515\n"
     ]
    }
   ],
   "source": [
    "#\n",
    "## Converting distance to inchecs, yards and miles\n",
    "#\n",
    "\n",
    "inches_in_foot = 12\n",
    "feet_in_yard = 3\n",
    "feet_in_mile = 5280\n",
    "\n",
    "# Accept distance in feet from user\n",
    "distance_in_feet = float(input(\"Enter distance in feet: \"))\n",
    "\n",
    "# calculate metrics\n",
    "\n",
    "distance_in_inches = distance_in_feet * inches_in_foot\n",
    "distance_in_yards = distance_in_feet / feet_in_yard\n",
    "distance_in_miles = distance_in_feet / feet_in_mile\n",
    "\n",
    "print(\"Distance in inches: \", distance_in_inches)\n",
    "print(\"Distance in yards: \", distance_in_yards)\n",
    "print(\"Distance in miles: \", distance_in_miles)"
   ]
  },
  {
   "cell_type": "markdown",
   "metadata": {},
   "source": [
    "Exercise 16: Area and Volume\n",
    "(15 Lines)\n",
    "Write a program that begins by reading a radius, r , from the user. The program will\n",
    "continue by computing and displaying the area of a circle with radius r and the\n",
    "volume of a sphere with radius r . Use the pi constant in the math module in your\n",
    "calculations.\n",
    "Hint: The area of a circle is computed using the formula area = πr 2 . The\n",
    "volume of a sphere is computed using the formula volume = 43 πr 3 ."
   ]
  },
  {
   "cell_type": "code",
   "execution_count": 132,
   "metadata": {},
   "outputs": [
    {
     "name": "stdout",
     "output_type": "stream",
     "text": [
      "4\n",
      "Area of the circle is:  50.26548245743669\n",
      "Volume of the sphere is:  268.082573106329\n"
     ]
    },
    {
     "data": {
      "text/plain": [
       "3.141592653589793"
      ]
     },
     "execution_count": 132,
     "metadata": {},
     "output_type": "execute_result"
    }
   ],
   "source": [
    "#\n",
    "## Calculating Area of a circle and volume of a sphere\n",
    "#\n",
    "\n",
    "# Accept radius\n",
    "radius = float(input())\n",
    "\n",
    "area = math.pi * radius ** 2.0\n",
    "volume = 4/3 * math.pi * radius ** 3.0\n",
    "\n",
    "print(\"Area of the circle is: \", area)\n",
    "print(\"Volume of the sphere is: \", volume)\n"
   ]
  },
  {
   "cell_type": "markdown",
   "metadata": {},
   "source": [
    "Exercise 17: Heat Capacity\n",
    "(Solved—25 Lines)\n",
    "The amount of energy required to increase the temperature of one gram of a material\n",
    "by one degree Celsius is the material’s specific heat capacity, C. The total amount\n",
    "of energy required to raise m grams of a material by ΔT degrees Celsius can be\n",
    "computed using the formula:\n",
    "q = mCΔT.\n",
    "Write a program that reads the mass of some water and the temperature change\n",
    "from the user. Your program should display the total amount of energy that must be\n",
    "added or removed to achieve the desired temperature change.\n",
    "Hint: The specific heat capacity of water is 4.186 g ◦ J C . Because water has a den-\n",
    "sity of 1.0 gram per millilitre, you can use grams and millilitres interchangeably\n",
    "in this exercise.\n",
    "Extend your program so that it also computes the cost of heating the water. Elec-\n",
    "tricity is normally billed using units of kilowatt hours rather than Joules. In this\n",
    "exercise, you should assume that electricity costs 8.9 cents per kilowatt-hour. Use\n",
    "your program to compute the cost of boiling water for a cup of coffee.\n",
    "This copy belongs to 'acha04'Exercise 17: Heat Capacity\n",
    "9\n",
    "Hint: You will need to look up the factor for converting between Joules and\n",
    "kilowatt hours to complete the last part of this exercise."
   ]
  },
  {
   "cell_type": "code",
   "execution_count": 144,
   "metadata": {},
   "outputs": [
    {
     "name": "stdout",
     "output_type": "stream",
     "text": [
      "Enter mass of water and temperature change separated by space: 45 5\n",
      "Energy required to raise 45 grams of water by 5 degrees is 941.85 Joules\n",
      "cost:  2e-05\n"
     ]
    }
   ],
   "source": [
    "#\n",
    "## Calculate energy\n",
    "#\n",
    "mass, temp = input(\"Enter mass of water and\\\n",
    " temperature change separated\\\n",
    " by space: \").split()\n",
    "energy = float(mass) * 4.186 * float(temp)\n",
    "print(\"Energy required to raise %s grams of\\\n",
    " water by %s degrees is %s Joules\" % (mass,temp,energy))\n",
    "\n",
    "# Calculating cost of heating water\n",
    "\n",
    "cost_per_kw_hr = 0.089 \n",
    "kilowatt_per_joule = 1/3600000\n",
    "\n",
    "print(\"cost: \", round(energy * kilowatt_per_joule * cost_per_kw_hr,5))"
   ]
  },
  {
   "cell_type": "markdown",
   "metadata": {},
   "source": [
    "Exercise 18: Volume of a Cylinder\n",
    "(15 Lines)\n",
    "The volume of a cylinder can be computed by multiplying the area of its circular\n",
    "base by its height. Write a program that reads the radius of the cylinder, along with\n",
    "its height, from the user and computes its volume. Display the result rounded to one\n",
    "decimal place."
   ]
  },
  {
   "cell_type": "code",
   "execution_count": null,
   "metadata": {},
   "outputs": [],
   "source": []
  },
  {
   "cell_type": "markdown",
   "metadata": {},
   "source": [
    "## Chapter 2: If statements"
   ]
  },
  {
   "cell_type": "markdown",
   "metadata": {},
   "source": [
    "Exercise 34: Even or Odd?\n",
    "(Solved—13 Lines)\n",
    "Write a program that reads an integer from the user. Then your program should\n",
    "display a message indicating whether the integer is even or odd."
   ]
  },
  {
   "cell_type": "code",
   "execution_count": 152,
   "metadata": {},
   "outputs": [
    {
     "name": "stdout",
     "output_type": "stream",
     "text": [
      "Enter an integer: 5\n",
      "The integer 5 is odd\n"
     ]
    }
   ],
   "source": [
    "#\n",
    "## Determining if a given integet is even or odd\n",
    "#\n",
    "\n",
    "# Read an integer\n",
    "integer = int(input(\"Enter an integer: \"))\n",
    "\n",
    "if integer % 2 ==0:\n",
    "    print(\"The integer %d is even\" % (integer))\n",
    "else:\n",
    "    print(\"The integer %d is odd\" % (integer))\n",
    "    "
   ]
  },
  {
   "cell_type": "markdown",
   "metadata": {},
   "source": [
    "Exercise 35: Dog Years\n",
    "(22 Lines)\n",
    "It is commonly said that one human year is equivalent to 7 dog years. However this\n",
    "simple conversion fails to recognize that dogs reach adulthood in approximately two\n",
    "years. As a result, some people believe that it is better to count each of the first two\n",
    "human years as 10.5 dog years, and then count each additional human year as 4 dog\n",
    "years.\n",
    "Write a program that implements the conversion from human years to dog years\n",
    "described in the previous paragraph. Ensure that your program works correctly for\n",
    "conversions of less than two human years and for conversions of two or more human\n",
    "years. Your program should display an appropriate error message if the user enters\n",
    "a negative number."
   ]
  },
  {
   "cell_type": "code",
   "execution_count": 151,
   "metadata": {},
   "outputs": [
    {
     "name": "stdout",
     "output_type": "stream",
     "text": [
      "Enter human years: 10\n",
      "Dog years:  53.0\n"
     ]
    }
   ],
   "source": [
    "#\n",
    "## calculate dog years\n",
    "#\n",
    "\n",
    "# Read human years\n",
    "two_years = 10.5\n",
    "subsequent_years = 4\n",
    "\n",
    "human_years = float(input(\"Enter human years: \"))\n",
    "\n",
    "if human_years > 2:\n",
    "    dog_years = 2 * two_years + (human_years-2) *\\\n",
    "    subsequent_years\n",
    "elif human_years > 0: \n",
    "    dog_years = human_years * two_years \n",
    "else:\n",
    "    print(\"Enter  only positive numbers\")\n",
    "print(\"Dog years: \", dog_years)"
   ]
  },
  {
   "cell_type": "markdown",
   "metadata": {},
   "source": [
    "Exercise 36: Vowel or Consonant\n",
    "(Solved—16 Lines)\n",
    "In this exercise you will create a program that reads a letter of the alphabet from the\n",
    "user. If the user enters a, e, i, o or u then your program should display a message\n",
    "indicating that the entered letter is a vowel. If the user enters y then your program\n",
    "should display a message indicating that sometimes y is a vowel, and sometimes y is\n",
    "a consonant. Otherwise your program should display a message indicating that the\n",
    "letter is a consonant."
   ]
  },
  {
   "cell_type": "code",
   "execution_count": 159,
   "metadata": {},
   "outputs": [
    {
     "name": "stdout",
     "output_type": "stream",
     "text": [
      "Enter an alphabet: o\n",
      "o is a vowel\n"
     ]
    }
   ],
   "source": [
    "#\n",
    "## Determining if the entered alphabet is a vowel or consonant\n",
    "#\n",
    "\n",
    "vowel = ['a', 'e', 'i', 'o', 'u']\n",
    "\n",
    "# Accept input from user\n",
    "alpha = input(\"Enter an alphabet: \")\n",
    "\n",
    "# Check if the alphabet is a vowel\n",
    "\n",
    "if str.lower(alpha) in vowel:\n",
    "    print(alpha,\"is a vowel\")\n",
    "elif str.lower(alpha) == 'y':\n",
    "    print(alpha, \"is sometimes a vowel and sometimes %s is a\\\n",
    " consonent\" % alpha)\n",
    "else:\n",
    "    print(alpha, \" is a consonent\")\n"
   ]
  },
  {
   "cell_type": "markdown",
   "metadata": {},
   "source": [
    "Exercise 37: Name that Shape\n",
    "(Solved—31 Lines)\n",
    "Write a program that determines the name of a shape from its number of sides. Read\n",
    "the number of sides from the user and then report the appropriate name as part of\n",
    "a meaningful message. Your program should support shapes with anywhere from 3\n",
    "up to (and including) 10 sides. If a number of sides outside of this range is entered\n",
    "then your program should display an appropriate error message."
   ]
  },
  {
   "cell_type": "code",
   "execution_count": 157,
   "metadata": {},
   "outputs": [
    {
     "name": "stdout",
     "output_type": "stream",
     "text": [
      "Enter number of sides: 4\n",
      "It's either a square or a rectangle\n"
     ]
    }
   ],
   "source": [
    "#\n",
    "## Determining shape of an object from its sides\n",
    "#\n",
    "# Accept input\n",
    "sides = int(input(\"Enter number of sides: \"))\n",
    "\n",
    "# determine the shape\n",
    "if sides == 3:\n",
    "    print(\"It's a triangle\")\n",
    "elif sides == 4:\n",
    "    print(\"It's either a square or a rectangle\")\n",
    "elif sides == 5:\n",
    "    print(\"It's a pentagon\")\n",
    "elif sides == 6:\n",
    "    prints(\"It's hexagon\")\n",
    "elif sides == 7:\n",
    "    prints(\"It's hectagon\")\n",
    "elif sides == 8:\n",
    "    prints(\"It's a octagon\")\n",
    "elif sides == 9:\n",
    "    prints(\"It's a nanogon\")\n",
    "elif sides == 10:\n",
    "    prints(\"It's decagon\")\n",
    "else:\n",
    "    print(\"The number of sides\\\n",
    "    is outside the range of 3-10.\")\n",
    "\n"
   ]
  },
  {
   "cell_type": "markdown",
   "metadata": {},
   "source": [
    "Exercise 38: Month Name to Number of Days\n",
    "(Solved—18 Lines)\n",
    "The length of a month varies from 28 to 31 days. In this exercise you will create\n",
    "a program that reads the name of a month from the user as a string. Then your\n",
    "program should display the number of days in that month. Display “28 or 29 days”\n",
    "for February so that leap years are addressed."
   ]
  },
  {
   "cell_type": "code",
   "execution_count": 163,
   "metadata": {},
   "outputs": [
    {
     "name": "stdout",
     "output_type": "stream",
     "text": [
      "Enter month name: may\n",
      "may has 31 days\n"
     ]
    }
   ],
   "source": [
    "#\n",
    "## Display number of days in a given month\n",
    "#\n",
    "months_31 = ['january', 'march', \n",
    "            'may','july','august','october',\n",
    "            'december']\n",
    "months_30 = ['april', 'june','september','november']\n",
    "\n",
    "# Accept month name\n",
    "month = input(\"Enter month name: \")\n",
    "# Display number of days\n",
    "if str.lower(month) in months_31:\n",
    "    print(month, \"has 31 days\")\n",
    "elif str.lower(month) in months_30:\n",
    "    print(month, \"has 30 days\")\n",
    "elif str.lower(month) == 'february':\n",
    "    print(month, \"either has 28 or 29 days\")\n",
    "else:\n",
    "    print(\"Enter a valid month\")"
   ]
  },
  {
   "cell_type": "markdown",
   "metadata": {},
   "source": [
    "Exercise 39: Sound Levels\n",
    "(30 Lines)\n",
    "The following table lists the sound level in decibels for several common noises.\n",
    "Noise          Decibel level (dB)\n",
    "Jackhammer 130 \n",
    "Gas lawnmower 106\n",
    "Alarm clock 70 \n",
    "Quiet room 40\n",
    "\n",
    "Write a program that reads a sound level in decibels from the user. If the user\n",
    "enters a decibel level that matches one of the noises in the table then your program\n",
    "should display a message containing only that noise. If the user enters a number\n",
    "of decibels between the noises listed then your program should display a message\n",
    "indicating which noises the level is between. Ensure that your program also generates\n",
    "reasonable output for a value smaller than the quietest noise in the table, and for a\n",
    "value larger than the loudest noise in the table."
   ]
  },
  {
   "cell_type": "code",
   "execution_count": 165,
   "metadata": {},
   "outputs": [
    {
     "name": "stdout",
     "output_type": "stream",
     "text": [
      "Enter decibels: 110\n",
      "It could either be a Jackhammer  or a  Gas lawnmower\n"
     ]
    }
   ],
   "source": [
    "#\n",
    "## What's that noise?\n",
    "#\n",
    "dl_130 = 'Jackhammer'\n",
    "dl_106 = 'Gas lawnmower'\n",
    "dl_70 = 'Alarm clock'\n",
    "dl_40 = 'Quiet room'\n",
    "\n",
    "# Accept decibels from user\n",
    "db = float(input(\"Enter decibels: \"))\n",
    "\n",
    "# Calculate the source of noise\n",
    "if db < 0:\n",
    "    print(\"Enter a number greater than 0\")\n",
    "elif db >= 130:\n",
    "    print(\"It's a\", dl_130)\n",
    "elif db == 106:\n",
    "    print(\"It's a\", dl_106)\n",
    "elif db == 70:\n",
    "    print(\"It's a\", dl_70)\n",
    "elif db <= 40:\n",
    "    print(\"It's a\", dl_40)\n",
    "if db < 130 and db > 106 :\n",
    "    print(\"It could either be a\", dl_130, \"or a\", dl_106)\n",
    "if db < 106 and db > 70 :\n",
    "    print(\"It could either be a\", dl_106, \"or a\", dl_70)\n",
    "\n",
    "if db < 70 and db > 740 :\n",
    "    print(\"It could either be a\", dl_70, \"or a\", dl_40)\n",
    "\n",
    "    \n"
   ]
  },
  {
   "cell_type": "markdown",
   "metadata": {},
   "source": [
    "Exercise 40: Name that Triangle\n",
    "(Solved—20 Lines)\n",
    "A triangle can be classified based on the lengths of its sides as equilateral, isosceles\n",
    "or scalene. All 3 sides of an equilateral triangle have the same length. An isosceles\n",
    "triangle has two sides that are the same length, and a third side that is a different\n",
    "length. If all of the sides have different lengths then the triangle is scalene.\n",
    "Write a program that reads the lengths of 3 sides of a triangle from the user.\n",
    "Display a message indicating the type of the triangle."
   ]
  },
  {
   "cell_type": "code",
   "execution_count": 168,
   "metadata": {},
   "outputs": [
    {
     "name": "stdout",
     "output_type": "stream",
     "text": [
      "Enter the lengths of 3 sides of a triangle:\n",
      "Side 1:10\n",
      "Side 2:20\n",
      "Side 3:10\n",
      "It's an isosceles triangle\n"
     ]
    }
   ],
   "source": [
    "#\n",
    "## Determine the type of triangle\n",
    "#\n",
    "print(\"Enter the lengths of 3 sides of a triangle:\")\n",
    "side1 = float(input(\"Side 1: \"))\n",
    "side2 = float(input(\"Side 2: \"))\n",
    "side3 = float(input(\"Side 3: \"))\n",
    "\n",
    "# Determine the type and display results\n",
    "if side1 == side2 and side2 == side3:\n",
    "    print(\"Its an equilateral triangle\")\n",
    "    \n",
    "if side1 == side2 or side2 == side3 or side1== side3:\n",
    "    print(\"It's an isosceles triangle\")\n",
    "else:\n",
    "    print(\"It's a scalene triangle\")\n",
    "     "
   ]
  },
  {
   "cell_type": "markdown",
   "metadata": {},
   "source": [
    "Exercise 41: Note To Frequency\n",
    "(Solved—39 Lines)\n",
    "The following table lists an octave of music notes, beginning with middle C, along\n",
    "with their frequencies.\n",
    "Note\n",
    "C4\n",
    "D4\n",
    "E4\n",
    "F4\n",
    "G4\n",
    "A4\n",
    "B4\n",
    "Frequency (Hz)\n",
    "261.63\n",
    "293.66\n",
    "329.63\n",
    "349.23\n",
    "392.00\n",
    "440.00\n",
    "493.88\n",
    "\n",
    "Begin by writing a program that reads the name of a note from the user and\n",
    "displays the note’s frequency. Your program should support all of the notes listed\n",
    "previously.\n",
    "Once you have your program working correctly for the notes listed previously you\n",
    "should add support for all of the notes from C0 to C8. While this could be done by\n",
    "adding many additional cases to your if statement, such a solution is cumbersome,\n",
    "inelegant and unacceptable for the purposes of this exercise. Instead, you should\n",
    "exploit the relationship between notes in adjacent octaves. In particular, the frequency\n",
    "of any note in octave n is half the frequency of the corresponding note in octave n +1.\n",
    "By using this relationship, you should be able to add support for the additional notes\n",
    "without adding additional cases to your if statement.\n",
    "Hint: To complete this exercise you will need to extract individual characters\n",
    "from the two-character note name so that you can work with the letter and\n",
    "the octave number separately. Once you have separated the parts, compute the\n",
    "frequency of the note in the fourth octave using the data in the table above.\n",
    "Then divide the frequency by 2 4−x , where x is the octave number entered by\n",
    "the user. This will halve or double the frequency the correct number of times."
   ]
  },
  {
   "cell_type": "code",
   "execution_count": 173,
   "metadata": {},
   "outputs": [
    {
     "name": "stdout",
     "output_type": "stream",
     "text": [
      "Enter note: c3\n",
      "Frequency: 130.815\n"
     ]
    }
   ],
   "source": [
    "#\n",
    "## Calculating frequency of a note\n",
    "#\n",
    "\n",
    "note = input(\"Enter note: \")\n",
    "\n",
    "letter = note[0]\n",
    "octave = note[1]\n",
    "multiplier = 2 ** (4-int(note[1]))\n",
    "\n",
    "# Calculating frequency for the 4th Octave\n",
    "if str.lower(note[0]) == 'c':\n",
    "    frequency = 261.63\n",
    "if str.lower(note[0]) == 'd':\n",
    "    frequency = 293.66\n",
    "if str.lower(note[0]) == 'e':\n",
    "    frequency = 329.63\n",
    "if str.lower(note[0]) == 'f':\n",
    "    frequency = 349.23\n",
    "if str.lower(note[0]) == 'g':\n",
    "    frequency = 392\n",
    "if str.lower(note[0]) == 'a':\n",
    "    frequency = 440\n",
    "if str.lower(note[0]) == 'b':\n",
    "    frequency = 493.88\n",
    "\n",
    "freq_with_octave = frequency / multiplier\n",
    "print('Frequency:',freq_with_octave)\n"
   ]
  },
  {
   "cell_type": "markdown",
   "metadata": {},
   "source": [
    "Exercise 42: Frequency To Note\n",
    "(Solved—40 Lines)\n",
    "In the previous question you converted from note name to frequency. In this question\n",
    "you will write a program that reverses that process. Begin by reading a frequency\n",
    "from the user. If the frequency is within one Hertz of a value listed in the table in\n",
    "the previous question then report the name of the note. Otherwise report that the\n",
    "frequency does not correspond to a known note. In this exercise you only need to\n",
    "consider the notes listed in the table. There is no need to consider notes from other\n",
    "octaves."
   ]
  },
  {
   "cell_type": "code",
   "execution_count": 178,
   "metadata": {},
   "outputs": [
    {
     "name": "stdout",
     "output_type": "stream",
     "text": [
      "261\n",
      "C4 is the frequency for that note\n"
     ]
    }
   ],
   "source": [
    "#\n",
    "## Display note based on frequency entered\n",
    "\n",
    "# Accept frequency in Herts\n",
    "frequency = float(input())\n",
    "c4_frequency = 261.63\n",
    "d4_frequency = 293.66\n",
    "e4_frequency = 329.63\n",
    "f4_frequency = 349.23\n",
    "g4_frequency = 392\n",
    "a4_frequency = 440\n",
    "b4_frequency = 493.88\n",
    "limit = 1\n",
    "\n",
    "if frequency >= c4_frequency - limit and\\\n",
    "            frequency <= c4_frequency + limit:\n",
    "            note = 'C4'\n",
    "\n",
    "elif frequency >= d4_frequency - limit and\\\n",
    "            frequency <= d4_frequency + limit:\n",
    "            note = 'D4'\n",
    "\n",
    "elif frequency >= e4_frequency - limit and\\\n",
    "            frequency <= e4_frequency + limit:\n",
    "            note = 'e4'\n",
    "\n",
    "elif frequency >= f4_frequency - limit and\\\n",
    "            frequency <= f4_frequency + limit:\n",
    "            note = 'F4'\n",
    "\n",
    "elif frequency >= g4_frequency - limit and\\\n",
    "            frequency <= g4_frequency + limit:\n",
    "            note = 'G4'\n",
    "\n",
    "elif frequency >= a4_frequency - limit and\\\n",
    "            frequency <= a4_frequency + limit:\n",
    "            note = 'A4'\n",
    "\n",
    "elif frequency >= b4_frequency - limit and\\\n",
    "            frequency <= b4_frequency + limit:\n",
    "            note = 'B4'\n",
    "else:\n",
    "    note = ''\n",
    "    \n",
    "if note == '':\n",
    "    print(\"There's no note corresponding to that frequency\")\n",
    "    \n",
    "else:\n",
    "    print(note,\"is the frequency for that note\")"
   ]
  },
  {
   "cell_type": "markdown",
   "metadata": {},
   "source": [
    "Exercise 43: Faces on Money\n",
    "(31 Lines)\n",
    "It is common for images of a country’s previous leaders, or other individuals of his-\n",
    "torical significance, to appear on its money. The individuals that appear on banknotes\n",
    "in the United States are listed in Table 2.1.\n",
    "Write a program that begins by reading the denomination of a banknote from the\n",
    "user. Then your program should display the name of the individual that appears on the\n",
    "Table 2.1 Individuals that\n",
    "appear on Banknotes\n",
    "Individual Amount\n",
    "George Washington $1\n",
    "Thomas Jefferson $2\n",
    "Abraham Lincoln $5\n",
    "Alexander Hamilton $10\n",
    "Andrew Jackson $20\n",
    "Ulysses S. Grant $50\n",
    "Benjamin Franklin $100\n",
    "banknote of the entered amount. An appropriate error message should be displayed\n",
    "if no such note exists.\n",
    "While two dollar banknotes are rarely seen in circulation in the United States,\n",
    "they are legal tender that can be spent just like any other denomination. The\n",
    "United States has also issued banknotes in denominations of $500, $1,000,\n",
    "$5,000, and $10,000 for public use. However, high denomination banknotes\n",
    "have not been printed since 1945 and were officially discontinued in 1969. As\n",
    "a result, we will not consider them in this exercise."
   ]
  },
  {
   "cell_type": "code",
   "execution_count": 180,
   "metadata": {},
   "outputs": [
    {
     "name": "stdout",
     "output_type": "stream",
     "text": [
      "5\n",
      "5 dollar bill has Abraham Lincoln\n"
     ]
    }
   ],
   "source": [
    "#\n",
    "## Display the name of the individual on the bank note\n",
    "#\n",
    "\n",
    "# banknotes and the individuals \n",
    "notes = {1: 'George Washington', 2: 'Thomas Jefferson',\n",
    "         5: 'Abraham Lincoln', 10: 'Alexander Hamilton',\n",
    "        20: 'Andrew Jackson', 50: 'Ulysses S. Grant',\n",
    "        100: 'Benjamin Franklin'}\n",
    "# Acceppt banknote denomination\n",
    "banknote = int(input())\n",
    "\n",
    "# print the name of the individual that appears on the bank note\n",
    "print(banknote,'dollar bill has',  notes[banknote])\n",
    "\n",
    "\n"
   ]
  },
  {
   "cell_type": "markdown",
   "metadata": {},
   "source": [
    "Exercise 44: Date to Holiday Name\n",
    "(18 Lines)\n",
    "Canada has three national holidays which fall on the same dates each year.\n",
    "Holiday\n",
    "New year’s day\n",
    "Canada day\n",
    "Christmas day\n",
    "Date\n",
    "January 1\n",
    "July 1\n",
    "December 25\n",
    "Write a program that reads a month and day from the user. If the month and day\n",
    "match one of the holidays listed previously then your program should display the\n",
    "holiday’s name. Otherwise your program should indicate that the entered month and\n",
    "day do not correspond to a fixed-date holiday.\n",
    "Canada has two additional national holidays, Good Friday and Labour Day,\n",
    "whose dates vary from year to year. There are also numerous provincial and\n",
    "territorial holidays, some of which have fixed dates, and some of which have\n",
    "variable dates. We will not consider any of these additional holidays in this\n",
    "exercise."
   ]
  },
  {
   "cell_type": "code",
   "execution_count": 189,
   "metadata": {},
   "outputs": [
    {
     "name": "stdout",
     "output_type": "stream",
     "text": [
      "Enter day: August 1\n",
      "The date entered is August 1\n"
     ]
    }
   ],
   "source": [
    "#\n",
    "## Displaying holiday corresponding to the date\n",
    "#\n",
    "\n",
    "# Holidays\n",
    "\n",
    "holidays = {'January 1':\"New Year's day\",\n",
    "            'July 1' : \"Canada day\",\n",
    "           'December 25' : 'Christmas day'}\n",
    "\n",
    "# Accept date from the user\n",
    "day = (input(\"Enter day: \"))\n",
    "\n",
    "\n",
    "# Determine if the date falls on a holiday\n",
    "if day in holidays.keys():\n",
    "    print(\"The date %s falls on %s\"% (day,holidays[day] ))\n",
    "else:\n",
    "    print(\"The date entered is %s\" %day)"
   ]
  },
  {
   "cell_type": "markdown",
   "metadata": {},
   "source": [
    "Exercise 45: What Color is that Square?\n",
    "(22 Lines)\n",
    "Positions on a chess board are identified by a letter and a number. The letter identifies\n",
    "the column, while the number identifies the row, as shown below:\n",
    "8\n",
    "7\n",
    "6\n",
    "5\n",
    "4\n",
    "3\n",
    "2\n",
    "1\n",
    "a\n",
    "b\n",
    "c\n",
    "d\n",
    "e\n",
    "f\n",
    "g\n",
    "h\n",
    "Write a program that reads a position from the user. Use an if statement to deter-\n",
    "mine if the column begins with a black square or a white square. Then use modular\n",
    "arithmetic to report the color of the square in that row. For example, if the user enters\n",
    "a1 then your program should report that the square is black. If the user enters d5\n",
    "then your program should report that the square is white. Your program may assume\n",
    "that a valid position will always be entered. It does not need to perform any error\n",
    "checking."
   ]
  },
  {
   "cell_type": "code",
   "execution_count": 192,
   "metadata": {},
   "outputs": [
    {
     "name": "stdout",
     "output_type": "stream",
     "text": [
      "Enter chess board position: d5\n",
      "white\n"
     ]
    }
   ],
   "source": [
    "#\n",
    "## Determining the color of the square in the chessboard\n",
    "#\n",
    "\n",
    "# Starting colors of columns\n",
    "black = ['a','c','e','g']\n",
    "\n",
    "\n",
    "# Accept square number from user\n",
    "position = input(\"Enter chess board position: \")\n",
    "\n",
    "# splitting input into row and column values\n",
    "column = position[0]\n",
    "row = int(position[1])\n",
    "\n",
    "# Determine the color of the square\n",
    "if column in black:\n",
    "    if row % 2 == 0:\n",
    "        color = 'white'\n",
    "    else:\n",
    "        color = 'black'\n",
    "else:\n",
    "    if row % 2 == 0:\n",
    "        color = 'black'\n",
    "    else:\n",
    "        color = 'white'\n",
    "        \n",
    "        \n",
    "# Print the color\n",
    "print(color)"
   ]
  },
  {
   "cell_type": "markdown",
   "metadata": {},
   "source": [
    "Exercise 46: Season from Month and Day\n",
    "(Solved—40 Lines)\n",
    "The year is divided into four seasons: spring, summer, fall and winter. While the\n",
    "exact dates that the seasons change vary a little bit from year to year because of the\n",
    "way that the calendar is constructed, we will use the following dates for this exercise:\n",
    "Season\n",
    "Spring\n",
    "Summer\n",
    "Fall\n",
    "Winter\n",
    "First day\n",
    "March 20\n",
    "June 21\n",
    "September 22\n",
    "December 21\n",
    "Create a program that reads a month and day from the user. The user will enter\n",
    "the name of the month as a string, followed by the day within the month as an\n",
    "integer. Then your program should display the season associated with the date that\n",
    "was entered."
   ]
  },
  {
   "cell_type": "code",
   "execution_count": 204,
   "metadata": {},
   "outputs": [
    {
     "name": "stdout",
     "output_type": "stream",
     "text": [
      "Enter month: February\n",
      "Enter day: 20\n",
      "The season is Winter\n"
     ]
    }
   ],
   "source": [
    "#\n",
    "## Display season based on month\n",
    "#\n",
    "\n",
    "# Seasons\n",
    "\n",
    "month = input(\"Enter month: \")\n",
    "day = int(input(\"Enter day: \"))\n",
    "\n",
    "if (month == 'December' and day >= 21) or \\\n",
    "   (month=='January') or (month == 'February') or \\\n",
    "    (month == 'March' and day < 20 ):\n",
    "        season = 'Winter'\n",
    "if (month =='March' and day >= 20) or \\\n",
    "   (month == 'April') or month == 'May' or \\\n",
    "    (month == 'June' and day <21):\n",
    "        season = 'Spring'\n",
    "if (month == 'June' and day>= 21) or \\\n",
    "   (month == 'July') or (month == 'August') or \\\n",
    "    (month == 'September' and day < 22):\n",
    "        season = 'Summer'\n",
    "if (month == 'September' and day >= 22) or \\\n",
    "   (month == 'October' ) or (month == 'November') or \\\n",
    "    (month == 'December' and day < 21):\n",
    "        season = 'Fall'\n",
    "        \n",
    "print(\"The season is\",season)\n",
    "    "
   ]
  },
  {
   "cell_type": "markdown",
   "metadata": {},
   "source": [
    "Exercise 47: Birth Date to Astrological Sign\n",
    "(47 Lines)\n",
    "The horoscopes commonly reported in newspapers use the position of the sun at the\n",
    "time of one’s birth to try and predict the future. This system of astrology divides the\n",
    "year into twelve zodiac signs, as outline in the table below:\n",
    "Zodiac sign\n",
    "Capricorn\n",
    "Aquarius\n",
    "Pisces\n",
    "Aries\n",
    "Taurus\n",
    "Gemini\n",
    "Cancer\n",
    "Leo\n",
    "Virgo\n",
    "Libra\n",
    "Scorpio\n",
    "Sagittarius\n",
    "Date range\n",
    "December 22 to January 19\n",
    "January 20 to February 18\n",
    "February 19 to March 20\n",
    "March 21 to April 19\n",
    "April 20 to May 20\n",
    "May 21 to June 20\n",
    "June 21 to July 22\n",
    "July 23 to August 22\n",
    "August 23 to September 22\n",
    "September 23 to October 22\n",
    "October 23 to November 21\n",
    "November 22 to December 21\n",
    "Write a program that asks the user to enter his or her month and day of birth. Then\n",
    "your program should report the user’s zodiac sign as part of an appropriate output\n",
    "message."
   ]
  },
  {
   "cell_type": "code",
   "execution_count": null,
   "metadata": {},
   "outputs": [],
   "source": []
  },
  {
   "cell_type": "markdown",
   "metadata": {},
   "source": [
    "The Chinese zodiac assigns animals to years in a 12 year cycle. One 12 year cycle is\n",
    "shown in the table below. The pattern repeats from there, with 2012 being another\n",
    "year of the dragon, and 1999 being another year of the hare.\n",
    "This copy belongs to 'acha04'22\n",
    "2 If Statement Exercises\n",
    "Year\n",
    "2000\n",
    "2001\n",
    "2002\n",
    "2003\n",
    "2004\n",
    "2005\n",
    "2006\n",
    "2007\n",
    "2008\n",
    "2009\n",
    "2010\n",
    "2011\n",
    "Animal\n",
    "Dragon\n",
    "Snake\n",
    "Horse\n",
    "Sheep\n",
    "Monkey\n",
    "Rooster\n",
    "Dog\n",
    "Pig\n",
    "Rat\n",
    "Ox\n",
    "Tiger\n",
    "Hare\n",
    "Write a program that reads a year from the user and displays the animal associated\n",
    "with that year. Your program should work correctly for any year greater than or equal\n",
    "to zero, not just the ones listed in the table."
   ]
  },
  {
   "cell_type": "code",
   "execution_count": 205,
   "metadata": {},
   "outputs": [],
   "source": [
    "#\n",
    "## Calculate Chinese Zodiac based on year\n",
    "#\n",
    "\n",
    "# Define Base year\n",
    "year1= 2000\n",
    "year2 = 2001\n",
    "year3 = 2002\n",
    "year4 = 2003\n",
    "year5 = 2004\n",
    "year6 = 2005\n",
    "year7 = 2006\n",
    "year8 = 2007\n",
    "year9 = 2008\n",
    "year10 = 2009\n",
    "year11 = 2010\n",
    "year12 = 2011\n",
    "\n",
    "sign1 = 'Dragon'\n",
    "sign2 = 'Snake'\n",
    "sign3 = 'Horse'\n",
    "sign4 = 'Sheep'\n",
    "sign5 = 'Monkey'\n",
    "sign6 = 'Rooster'\n",
    "sign7 = 'Dog'\n",
    "sign8 = 'Pig'\n",
    "sign9 = 'Rat'\n",
    "sign10 = 'Ox'\n",
    "sign11 = 'Tiger'\n",
    "sign12 = 'Hare'\n",
    "\n",
    "# Accept year from user\n",
    "year = int(input(\"Enter year: \"))\n",
    "\n",
    "if "
   ]
  },
  {
   "cell_type": "code",
   "execution_count": null,
   "metadata": {},
   "outputs": [],
   "source": []
  }
 ],
 "metadata": {
  "kernelspec": {
   "display_name": "Python 3",
   "language": "python",
   "name": "python3"
  },
  "language_info": {
   "codemirror_mode": {
    "name": "ipython",
    "version": 3
   },
   "file_extension": ".py",
   "mimetype": "text/x-python",
   "name": "python",
   "nbconvert_exporter": "python",
   "pygments_lexer": "ipython3",
   "version": "3.8.5"
  }
 },
 "nbformat": 4,
 "nbformat_minor": 4
}
